{
  "nbformat": 4,
  "nbformat_minor": 0,
  "metadata": {
    "colab": {
      "provenance": [],
      "gpuType": "T4"
    },
    "kernelspec": {
      "name": "python3",
      "display_name": "Python 3"
    },
    "language_info": {
      "name": "python"
    },
    "accelerator": "GPU"
  },
  "cells": [
    {
      "cell_type": "code",
      "execution_count": 22,
      "metadata": {
        "id": "AFeG-F-1Ooin"
      },
      "outputs": [],
      "source": [
        "import torch\n",
        "import torch.nn as nn\n",
        "import torch.nn.functional as F\n",
        "import torchvision"
      ]
    },
    {
      "cell_type": "code",
      "source": [
        "bs_train = 64\n",
        "bs_test = 1000"
      ],
      "metadata": {
        "id": "IUAwE-AYQYco"
      },
      "execution_count": 23,
      "outputs": []
    },
    {
      "cell_type": "code",
      "source": [
        "## prepare MNIST dataset\n",
        "trainset = torchvision.datasets.MNIST('/files/', train=True, download=True,\n",
        "                             transform=torchvision.transforms.Compose([\n",
        "                               torchvision.transforms.ToTensor(),\n",
        "                               torchvision.transforms.Normalize(\n",
        "                                 (0.1307,), (0.3081,))\n",
        "                             ]))\n",
        "train_loader = torch.utils.data.DataLoader(trainset, batch_size=bs_train, shuffle=True)\n",
        "\n",
        "testset = torchvision.datasets.MNIST('/files/', train=False, download=True,\n",
        "                             transform=torchvision.transforms.Compose([\n",
        "                               torchvision.transforms.ToTensor(),\n",
        "                               torchvision.transforms.Normalize(\n",
        "                                 (0.1307,), (0.3081,))\n",
        "                             ]))\n",
        "test_loader = torch.utils.data.DataLoader(testset, batch_size=bs_test, shuffle=True)"
      ],
      "metadata": {
        "id": "MG87fm0ePEkp"
      },
      "execution_count": 37,
      "outputs": []
    },
    {
      "cell_type": "markdown",
      "source": [
        "### Training Data Statistics"
      ],
      "metadata": {
        "id": "g492zeX4bKpF"
      }
    },
    {
      "cell_type": "code",
      "source": [
        "p = torch.bincount(trainset.targets)\n",
        "p"
      ],
      "metadata": {
        "colab": {
          "base_uri": "https://localhost:8080/"
        },
        "id": "EiKsGsU7bJd9",
        "outputId": "dd54a362-a66b-4ca8-a835-b05bac743afa"
      },
      "execution_count": 42,
      "outputs": [
        {
          "output_type": "execute_result",
          "data": {
            "text/plain": [
              "tensor([5923, 6742, 5958, 6131, 5842, 5421, 5918, 6265, 5851, 5949])"
            ]
          },
          "metadata": {},
          "execution_count": 42
        }
      ]
    },
    {
      "cell_type": "code",
      "source": [
        "p.sum()"
      ],
      "metadata": {
        "colab": {
          "base_uri": "https://localhost:8080/"
        },
        "id": "kykjbURscMVy",
        "outputId": "c14704d6-7973-47c3-ee4a-a924434df0ca"
      },
      "execution_count": 43,
      "outputs": [
        {
          "output_type": "execute_result",
          "data": {
            "text/plain": [
              "tensor(60000)"
            ]
          },
          "metadata": {},
          "execution_count": 43
        }
      ]
    },
    {
      "cell_type": "code",
      "source": [
        "(torch.log2(p / 60000) * (p / 60000)).sum()"
      ],
      "metadata": {
        "colab": {
          "base_uri": "https://localhost:8080/"
        },
        "id": "hmyOeWsxdvUH",
        "outputId": "fc591c5e-bd69-4d6c-a7d9-bda0a4c0536e"
      },
      "execution_count": 45,
      "outputs": [
        {
          "output_type": "execute_result",
          "data": {
            "text/plain": [
              "tensor(-3.3199)"
            ]
          },
          "metadata": {},
          "execution_count": 45
        }
      ]
    },
    {
      "cell_type": "markdown",
      "source": [
        "### Training Functions"
      ],
      "metadata": {
        "id": "aSO_6xwzQwZE"
      }
    },
    {
      "cell_type": "code",
      "source": [
        "def test(network):\n",
        "    network.eval()\n",
        "    test_loss = 0\n",
        "    correct = 0\n",
        "    with torch.no_grad():\n",
        "        for data, target in test_loader:\n",
        "            data, target = data.to('cuda'), target.to('cuda')\n",
        "            output = network(data)\n",
        "            test_loss += F.nll_loss(output, target, size_average=False).item()\n",
        "            pred = output.data.max(1, keepdim=True)[1]\n",
        "            correct += pred.eq(target.data.view_as(pred)).sum()\n",
        "    test_loss /= len(test_loader.dataset)\n",
        "    print('\\nTest set: Avg. loss: {:.4f}, Accuracy: {}/{} ({:.0f}%)\\n'.format(\n",
        "        test_loss, correct, len(test_loader.dataset),\n",
        "        100. * correct / len(test_loader.dataset)))\n",
        "\n",
        "def train(network, epoch=3):\n",
        "    optimizer = torch.optim.SGD(network.parameters(), lr=0.005,\n",
        "                      momentum=0.5)\n",
        "    network.train()\n",
        "    for e in range(epoch):\n",
        "        for batch_idx, (data, target) in enumerate(train_loader):\n",
        "            data, target = data.to('cuda'), target.to('cuda')\n",
        "            optimizer.zero_grad()\n",
        "            output = network(data)\n",
        "            loss = F.nll_loss(output, target)\n",
        "            loss.backward()\n",
        "            optimizer.step()\n",
        "        print(\"Epoch {}, Loss {}\".format(e, loss.item()))\n",
        "        test(network)"
      ],
      "metadata": {
        "id": "g_2viDxlSF5W"
      },
      "execution_count": 51,
      "outputs": []
    },
    {
      "cell_type": "markdown",
      "source": [
        "### Model Architectures"
      ],
      "metadata": {
        "id": "EYaibSa7VTVQ"
      }
    },
    {
      "cell_type": "code",
      "source": [
        "class Net1(nn.Module):\n",
        "    def __init__(self):\n",
        "        super(Net1, self).__init__()\n",
        "        self.conv1 = nn.Sequential(\n",
        "            nn.Conv2d(1, 10, kernel_size=3, padding=1),\n",
        "            nn.MaxPool2d(2),\n",
        "            nn.ReLU()\n",
        "        )\n",
        "        self.conv2 = nn.Sequential(\n",
        "            nn.Conv2d(10, 20, kernel_size=3, padding=1),\n",
        "            nn.MaxPool2d(2),\n",
        "            nn.ReLU()\n",
        "        )\n",
        "        self.fc1 = nn.Sequential(\n",
        "            nn.Linear(980, 120),\n",
        "            nn.ReLU()\n",
        "        )\n",
        "        self.fc2 = nn.Linear(120, 10)\n",
        "\n",
        "    def forward(self, x):\n",
        "        x = self.conv2(self.conv1(x))\n",
        "        x = x.view(-1, 980)\n",
        "        x = self.fc2(self.fc1(x))\n",
        "        return F.log_softmax(x, dim=1)"
      ],
      "metadata": {
        "id": "1U2dTZFtVPMh"
      },
      "execution_count": 26,
      "outputs": []
    },
    {
      "cell_type": "code",
      "source": [
        "class Net2(nn.Module):\n",
        "    def __init__(self):\n",
        "        super(Net2, self).__init__()\n",
        "        self.conv1 = nn.Sequential(\n",
        "            nn.Conv2d(1, 15, kernel_size=3, padding=1),\n",
        "            nn.MaxPool2d(2),\n",
        "            nn.ReLU()\n",
        "        )\n",
        "        self.conv2 = nn.Sequential(\n",
        "            nn.Conv2d(15, 30, kernel_size=3, padding=1),\n",
        "            nn.MaxPool2d(2),\n",
        "            nn.ReLU()\n",
        "        )\n",
        "        self.fc1 = nn.Sequential(\n",
        "            nn.Linear(1470, 120),\n",
        "            nn.ReLU()\n",
        "        )\n",
        "        self.fc2 = nn.Linear(120, 10)\n",
        "\n",
        "    def forward(self, x):\n",
        "        x = self.conv2(self.conv1(x))\n",
        "        x = x.view(-1, 1470)\n",
        "        x = self.fc2(self.fc1(x))\n",
        "        return F.log_softmax(x, dim=1)"
      ],
      "metadata": {
        "id": "t53w4F4oWVqe"
      },
      "execution_count": 30,
      "outputs": []
    },
    {
      "cell_type": "code",
      "source": [
        "class Net3(nn.Module):\n",
        "    def __init__(self):\n",
        "        super(Net3, self).__init__()\n",
        "        self.conv1 = nn.Sequential(\n",
        "            nn.Conv2d(1, 5, kernel_size=3, padding=1),\n",
        "            nn.MaxPool2d(2),\n",
        "            nn.ReLU()\n",
        "        )\n",
        "        self.conv2 = nn.Sequential(\n",
        "            nn.Conv2d(5, 10, kernel_size=3, padding=1),\n",
        "            nn.MaxPool2d(2),\n",
        "            nn.ReLU()\n",
        "        )\n",
        "        self.fc1 = nn.Sequential(\n",
        "            nn.Linear(490, 120),\n",
        "            nn.ReLU()\n",
        "        )\n",
        "        self.fc2 = nn.Linear(120, 10)\n",
        "\n",
        "    def forward(self, x):\n",
        "        x = self.conv2(self.conv1(x))\n",
        "        x = x.view(-1, 490)\n",
        "        x = self.fc2(self.fc1(x))\n",
        "        return F.log_softmax(x, dim=1)"
      ],
      "metadata": {
        "id": "E5VwA_2OXFXH"
      },
      "execution_count": 34,
      "outputs": []
    },
    {
      "cell_type": "code",
      "source": [
        "net = Net1().cuda()\n",
        "train(net, epoch=5)"
      ],
      "metadata": {
        "colab": {
          "base_uri": "https://localhost:8080/"
        },
        "id": "OkvQPLRkTIlb",
        "outputId": "4667f847-71d5-4494-8269-e515dd9eb7e1"
      },
      "execution_count": 27,
      "outputs": [
        {
          "output_type": "stream",
          "name": "stdout",
          "text": [
            "Epoch 0, Loss 0.2979038655757904\n"
          ]
        },
        {
          "output_type": "stream",
          "name": "stderr",
          "text": [
            "/usr/local/lib/python3.10/dist-packages/torch/nn/_reduction.py:42: UserWarning: size_average and reduce args will be deprecated, please use reduction='sum' instead.\n",
            "  warnings.warn(warning.format(ret))\n"
          ]
        },
        {
          "output_type": "stream",
          "name": "stdout",
          "text": [
            "\n",
            "Test set: Avg. loss: 0.2679, Accuracy: 9149/10000 (91%)\n",
            "\n",
            "Epoch 1, Loss 0.07840929180383682\n",
            "\n",
            "Test set: Avg. loss: 0.1360, Accuracy: 9580/10000 (96%)\n",
            "\n",
            "Epoch 2, Loss 0.052997052669525146\n",
            "\n",
            "Test set: Avg. loss: 0.1034, Accuracy: 9688/10000 (97%)\n",
            "\n",
            "Epoch 3, Loss 0.014399625360965729\n",
            "\n",
            "Test set: Avg. loss: 0.0757, Accuracy: 9762/10000 (98%)\n",
            "\n",
            "Epoch 4, Loss 0.02289530262351036\n",
            "\n",
            "Test set: Avg. loss: 0.0673, Accuracy: 9795/10000 (98%)\n",
            "\n"
          ]
        }
      ]
    },
    {
      "cell_type": "code",
      "source": [
        "net = Net2().cuda()\n",
        "train(net, epoch=5)"
      ],
      "metadata": {
        "colab": {
          "base_uri": "https://localhost:8080/"
        },
        "id": "IH-VcMLhWj_F",
        "outputId": "a1b3078d-bc2e-46a3-ca37-54f7175020ce"
      },
      "execution_count": 31,
      "outputs": [
        {
          "output_type": "stream",
          "name": "stdout",
          "text": [
            "Epoch 0, Loss 0.07484915852546692\n"
          ]
        },
        {
          "output_type": "stream",
          "name": "stderr",
          "text": [
            "/usr/local/lib/python3.10/dist-packages/torch/nn/_reduction.py:42: UserWarning: size_average and reduce args will be deprecated, please use reduction='sum' instead.\n",
            "  warnings.warn(warning.format(ret))\n"
          ]
        },
        {
          "output_type": "stream",
          "name": "stdout",
          "text": [
            "\n",
            "Test set: Avg. loss: 0.2086, Accuracy: 9394/10000 (94%)\n",
            "\n",
            "Epoch 1, Loss 0.05931271240115166\n",
            "\n",
            "Test set: Avg. loss: 0.1337, Accuracy: 9590/10000 (96%)\n",
            "\n",
            "Epoch 2, Loss 0.1019870713353157\n",
            "\n",
            "Test set: Avg. loss: 0.0883, Accuracy: 9714/10000 (97%)\n",
            "\n",
            "Epoch 3, Loss 0.012291406281292439\n",
            "\n",
            "Test set: Avg. loss: 0.0711, Accuracy: 9780/10000 (98%)\n",
            "\n",
            "Epoch 4, Loss 0.02485601045191288\n",
            "\n",
            "Test set: Avg. loss: 0.0611, Accuracy: 9807/10000 (98%)\n",
            "\n"
          ]
        }
      ]
    },
    {
      "cell_type": "code",
      "source": [
        "net = Net3().cuda()\n",
        "train(net, epoch=5)"
      ],
      "metadata": {
        "colab": {
          "base_uri": "https://localhost:8080/"
        },
        "id": "noYPraYfXYI8",
        "outputId": "4a7f1911-6132-45b1-a04f-0b8190a53947"
      },
      "execution_count": 35,
      "outputs": [
        {
          "output_type": "stream",
          "name": "stdout",
          "text": [
            "Epoch 0, Loss 0.28483662009239197\n"
          ]
        },
        {
          "output_type": "stream",
          "name": "stderr",
          "text": [
            "/usr/local/lib/python3.10/dist-packages/torch/nn/_reduction.py:42: UserWarning: size_average and reduce args will be deprecated, please use reduction='sum' instead.\n",
            "  warnings.warn(warning.format(ret))\n"
          ]
        },
        {
          "output_type": "stream",
          "name": "stdout",
          "text": [
            "\n",
            "Test set: Avg. loss: 0.2674, Accuracy: 9176/10000 (92%)\n",
            "\n",
            "Epoch 1, Loss 0.15086805820465088\n",
            "\n",
            "Test set: Avg. loss: 0.1536, Accuracy: 9529/10000 (95%)\n",
            "\n",
            "Epoch 2, Loss 0.2042219042778015\n",
            "\n",
            "Test set: Avg. loss: 0.1107, Accuracy: 9646/10000 (96%)\n",
            "\n",
            "Epoch 3, Loss 0.14078378677368164\n",
            "\n",
            "Test set: Avg. loss: 0.0974, Accuracy: 9668/10000 (97%)\n",
            "\n",
            "Epoch 4, Loss 0.03554607927799225\n",
            "\n",
            "Test set: Avg. loss: 0.0861, Accuracy: 9700/10000 (97%)\n",
            "\n"
          ]
        }
      ]
    },
    {
      "cell_type": "code",
      "source": [
        "net1 = Net1()\n",
        "print(sum(p.numel() for p in net1.parameters() if p.requires_grad))\n",
        "net2 = Net2()\n",
        "print(sum(p.numel() for p in net2.parameters() if p.requires_grad))\n",
        "net3 = Net3()\n",
        "print(sum(p.numel() for p in net3.parameters() if p.requires_grad))"
      ],
      "metadata": {
        "colab": {
          "base_uri": "https://localhost:8080/"
        },
        "id": "5Xb1WORkgTK6",
        "outputId": "c8e6cb05-ddd5-4f08-9183-2be635c54feb"
      },
      "execution_count": 48,
      "outputs": [
        {
          "output_type": "stream",
          "name": "stdout",
          "text": [
            "120850\n",
            "181960\n",
            "60640\n"
          ]
        }
      ]
    },
    {
      "cell_type": "code",
      "source": [
        "class Net4(nn.Module):\n",
        "    def __init__(self):\n",
        "        super(Net4, self).__init__()\n",
        "        self.conv1 = nn.Sequential(\n",
        "            nn.Conv2d(1, 4, kernel_size=3, padding=1),\n",
        "            nn.MaxPool2d(2),\n",
        "            nn.ReLU()\n",
        "        )\n",
        "        self.conv2 = nn.Sequential(\n",
        "            nn.Conv2d(4, 8, kernel_size=3, padding=1),\n",
        "            nn.MaxPool2d(2),\n",
        "            nn.ReLU()\n",
        "        )\n",
        "        self.fc1 = nn.Sequential(\n",
        "            nn.Linear(392, 80),\n",
        "            nn.ReLU()\n",
        "        )\n",
        "        self.fc2 = nn.Linear(80, 10)\n",
        "\n",
        "    def forward(self, x):\n",
        "        x = self.conv2(self.conv1(x))\n",
        "        x = x.view(-1, 392)\n",
        "        x = self.fc2(self.fc1(x))\n",
        "        return F.log_softmax(x, dim=1)"
      ],
      "metadata": {
        "id": "MgfjwuIGk1V4"
      },
      "execution_count": 49,
      "outputs": []
    },
    {
      "cell_type": "code",
      "source": [
        "net4 = Net4().cuda()\n",
        "train(net4, epoch=5)"
      ],
      "metadata": {
        "colab": {
          "base_uri": "https://localhost:8080/"
        },
        "id": "23SxEqmvk4WG",
        "outputId": "b4efe201-051a-4fa4-eb5b-869e6a10f2db"
      },
      "execution_count": 56,
      "outputs": [
        {
          "output_type": "stream",
          "name": "stdout",
          "text": [
            "Epoch 0, Loss 0.20946656167507172\n"
          ]
        },
        {
          "output_type": "stream",
          "name": "stderr",
          "text": [
            "/usr/local/lib/python3.10/dist-packages/torch/nn/_reduction.py:42: UserWarning: size_average and reduce args will be deprecated, please use reduction='sum' instead.\n",
            "  warnings.warn(warning.format(ret))\n"
          ]
        },
        {
          "output_type": "stream",
          "name": "stdout",
          "text": [
            "\n",
            "Test set: Avg. loss: 0.3134, Accuracy: 9043/10000 (90%)\n",
            "\n",
            "Epoch 1, Loss 0.07053764164447784\n",
            "\n",
            "Test set: Avg. loss: 0.1742, Accuracy: 9487/10000 (95%)\n",
            "\n",
            "Epoch 2, Loss 0.13274231553077698\n",
            "\n",
            "Test set: Avg. loss: 0.1351, Accuracy: 9584/10000 (96%)\n",
            "\n",
            "Epoch 3, Loss 0.050590403378009796\n",
            "\n",
            "Test set: Avg. loss: 0.1044, Accuracy: 9680/10000 (97%)\n",
            "\n",
            "Epoch 4, Loss 0.048892855644226074\n",
            "\n",
            "Test set: Avg. loss: 0.0829, Accuracy: 9737/10000 (97%)\n",
            "\n"
          ]
        }
      ]
    },
    {
      "cell_type": "code",
      "source": [
        "print(sum(p.numel() for p in net4.parameters() if p.requires_grad))"
      ],
      "metadata": {
        "colab": {
          "base_uri": "https://localhost:8080/"
        },
        "id": "AZtt4qjqlwee",
        "outputId": "06762736-07bc-4d38-fdf8-06de25959292"
      },
      "execution_count": 54,
      "outputs": [
        {
          "output_type": "stream",
          "name": "stdout",
          "text": [
            "32586\n"
          ]
        }
      ]
    }
  ]
}